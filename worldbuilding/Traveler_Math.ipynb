{
 "cells": [
  {
   "cell_type": "markdown",
   "metadata": {},
   "source": [
    "# Traveler Math\n",
    "\n",
    "The BFS which carried the the Traveler lasted from 2020 to 2046. The signal was transmitted across multiple frequencies and had a presitant bandwidth of 4 TB/s.\n",
    "\n"
   ]
  },
  {
   "cell_type": "code",
   "execution_count": 5,
   "metadata": {},
   "outputs": [
    {
     "name": "stdout",
     "output_type": "stream",
     "text": [
      "Size of the Traveler: 1639 EB\n"
     ]
    }
   ],
   "source": [
    "from math import *\n",
    "\n",
    "import numpy as np\n",
    "import matplotlib.pyplot as plt\n",
    "\n",
    "years_to_seconds = 365 * 24 * 60 * 60\n",
    "\n",
    "years = 2046 - 2020\n",
    "seconds = years * years_to_seconds\n",
    "\n",
    "signal_bandwidth = 4 # TB/s\n",
    "\n",
    "traveler_size = seconds * signal_bandwidth # TB\n",
    "traveler_size = traveler_size // 2\n",
    "traveler_size = traveler_size // 1000 // 1000 # TB -> EB\n",
    "traveler_size_bytes = traveler_size * 1e18 # EB -> bytes\n",
    "\n",
    "print(f\"Size of the Traveler: {traveler_size} EB\")\n"
   ]
  },
  {
   "cell_type": "markdown",
   "metadata": {},
   "source": [
    "Assuming the Traveler is neural network in the form of a complete graph $K_n$ where all edges and vertices take up one byte of data, the number of neurons (vertices) can be found like so:\n",
    "\n",
    "$$ T = n + \\frac{n(n-1)}{2} $$\n",
    "\n",
    "$$ T = n + \\frac{n^2-n}{2} $$\n",
    "\n",
    "$$ T = n + \\frac{1}{2}n^2-\\frac{1}{2}n $$\n",
    "\n",
    "$$ T = \\frac{1}{2}n^2+\\frac{1}{2}n $$\n",
    "\n",
    "$$ 2T = n^2 + n $$\n",
    "\n",
    "$$ 0 = n^2 + n - 2T$$\n",
    "\n",
    "$$ n = \\frac{-1\\pm\\sqrt{1+8T}}{2} $$\n",
    "\n",
    "But since $n$ is a postive integer:\n",
    "\n",
    "$$ \\boxed{n = \\frac{-1+\\sqrt{1+8T}}{2}} $$\n",
    "\n",
    "The Traveler's size in bytes is $T$.\n"
   ]
  },
  {
   "cell_type": "code",
   "execution_count": 6,
   "metadata": {},
   "outputs": [
    {
     "name": "stdout",
     "output_type": "stream",
     "text": [
      "57253820832 neurons\n"
     ]
    }
   ],
   "source": [
    "def num_neurons(T: int) -> int:\n",
    "    return int((-1 + sqrt(1 + (8*T)) ) // 2)\n",
    "\n",
    "print(f\"{num_neurons(traveler_size_bytes)} neurons\")\n"
   ]
  }
 ],
 "metadata": {
  "kernelspec": {
   "display_name": "Python 3",
   "language": "python",
   "name": "python3"
  },
  "language_info": {
   "codemirror_mode": {
    "name": "ipython",
    "version": 3
   },
   "file_extension": ".py",
   "mimetype": "text/x-python",
   "name": "python",
   "nbconvert_exporter": "python",
   "pygments_lexer": "ipython3",
   "version": "3.12.6"
  }
 },
 "nbformat": 4,
 "nbformat_minor": 2
}
